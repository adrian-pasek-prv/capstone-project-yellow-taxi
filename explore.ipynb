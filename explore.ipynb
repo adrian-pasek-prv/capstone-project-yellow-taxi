{
 "cells": [
  {
   "cell_type": "code",
   "execution_count": 1,
   "id": "00ce26e7",
   "metadata": {},
   "outputs": [],
   "source": [
    "import configparser\n",
    "import os\n",
    "import pandas as pd\n",
    "import s3fs"
   ]
  },
  {
   "cell_type": "code",
   "execution_count": 2,
   "id": "b4f14649",
   "metadata": {},
   "outputs": [],
   "source": [
    "# Extract and assign env variables from config file\n",
    "config = configparser.ConfigParser()\n",
    "config.read('config')\n",
    "profile = config['udacity']\n",
    "\n",
    "os.environ['AWS_ACCESS_KEY_ID'] = profile['aws_access_key_id']\n",
    "os.environ['AWS_SECRET_ACCESS_KEY'] = profile['aws_secret_access_key']\n",
    "os.environ['AWS_DEFAULT_REGION'] = profile['region']"
   ]
  },
  {
   "cell_type": "code",
   "execution_count": 3,
   "id": "c43d482a",
   "metadata": {},
   "outputs": [
    {
     "data": {
      "text/plain": [
       "['capstone-project-taxi-data/yellow_trip']"
      ]
     },
     "execution_count": 3,
     "metadata": {},
     "output_type": "execute_result"
    }
   ],
   "source": [
    "s3 = s3fs.S3FileSystem()\n",
    "s3.ls('capstone-project-taxi-data')"
   ]
  },
  {
   "cell_type": "code",
   "execution_count": null,
   "id": "3ddaf8da",
   "metadata": {},
   "outputs": [],
   "source": []
  }
 ],
 "metadata": {
  "kernelspec": {
   "display_name": "Python [conda env:root] *",
   "language": "python",
   "name": "conda-root-py"
  },
  "language_info": {
   "codemirror_mode": {
    "name": "ipython",
    "version": 3
   },
   "file_extension": ".py",
   "mimetype": "text/x-python",
   "name": "python",
   "nbconvert_exporter": "python",
   "pygments_lexer": "ipython3",
   "version": "3.10.9"
  }
 },
 "nbformat": 4,
 "nbformat_minor": 5
}
